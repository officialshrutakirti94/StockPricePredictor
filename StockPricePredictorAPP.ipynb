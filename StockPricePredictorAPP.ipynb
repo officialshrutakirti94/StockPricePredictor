{
 "cells": [
  {
   "cell_type": "code",
   "execution_count": 1,
   "id": "cd858fe8-34aa-4ec1-ae51-1eb7bbdd474d",
   "metadata": {},
   "outputs": [],
   "source": [
    "import pickle\n",
    "from flask import Flask\n",
    "from flask import request\n",
    "from flask import render_template\n",
    "import joblib"
   ]
  },
  {
   "cell_type": "code",
   "execution_count": 2,
   "id": "a8133d4d-c454-41d4-9b92-7b626abde476",
   "metadata": {},
   "outputs": [],
   "source": [
    "app = Flask(__name__)\n",
    "model = joblib.load('stock_predict')\n",
    "\n",
    "@app.route('/')\n",
    "def home(name=None):\n",
    "    return render_template('main.html',name=name)\n",
    "\n",
    "@app.route('/index')\n",
    "def index(name=None):\n",
    "    return render_template('index.html', name=name)\n",
    "\n",
    "@app.route('/result', methods=['GET', 'POST'])\n",
    "def get_value():\n",
    "    if request.method == 'POST':\n",
    "        try:\n",
    "            open = float(request.form.get('open'))\n",
    "            high = float(request.form.get('high'))\n",
    "            low = float(request.form.get('low'))\n",
    "            volume = float(request.form.get('volume'))\n",
    "            \n",
    "            closing_price_pred = model.predict([[open, high, low, volume]])\n",
    "            \n",
    "            return render_template(\n",
    "                'result.html',\n",
    "                open=open,\n",
    "                high=high,\n",
    "                low=low,\n",
    "                volume=volume,\n",
    "                close=closing_price_pred[0] \n",
    "            )\n",
    "        except Exception as e:\n",
    "            return f\"An error occurred: {e}\", 500\n",
    "    \n",
    "    return render_template('index.html')\n"
   ]
  },
  {
   "cell_type": "code",
   "execution_count": 3,
   "id": "f9348f87-1ee3-4cf9-9367-3a3367c421f7",
   "metadata": {},
   "outputs": [
    {
     "name": "stdout",
     "output_type": "stream",
     "text": [
      " * Serving Flask app '__main__'\n",
      " * Debug mode: off\n"
     ]
    },
    {
     "name": "stderr",
     "output_type": "stream",
     "text": [
      "WARNING: This is a development server. Do not use it in a production deployment. Use a production WSGI server instead.\n",
      " * Running on http://127.0.0.1:5000\n",
      "Press CTRL+C to quit\n",
      "127.0.0.1 - - [18/Nov/2024 23:25:40] \"GET / HTTP/1.1\" 200 -\n",
      "127.0.0.1 - - [18/Nov/2024 23:25:40] \"GET /static/css/main.css HTTP/1.1\" 304 -\n",
      "127.0.0.1 - - [18/Nov/2024 23:25:40] \"GET /static/arrow.png HTTP/1.1\" 304 -\n",
      "127.0.0.1 - - [18/Nov/2024 23:25:40] \"GET /static/lv_0_20241116141507.mp4 HTTP/1.1\" 206 -\n",
      "127.0.0.1 - - [18/Nov/2024 23:25:40] \"GET /static/lv_0_20241116141507.mp4 HTTP/1.1\" 206 -\n",
      "127.0.0.1 - - [18/Nov/2024 23:25:41] \"GET /static/lv_0_20241116141507.mp4 HTTP/1.1\" 206 -\n",
      "127.0.0.1 - - [18/Nov/2024 23:25:42] \"GET /static/lv_0_20241116141507.mp4 HTTP/1.1\" 206 -\n",
      "127.0.0.1 - - [18/Nov/2024 23:25:42] \"GET /static/lv_0_20241116141507.mp4 HTTP/1.1\" 206 -\n",
      "127.0.0.1 - - [18/Nov/2024 23:25:42] \"GET /static/lv_0_20241116141507.mp4 HTTP/1.1\" 206 -\n",
      "127.0.0.1 - - [18/Nov/2024 23:25:43] \"GET /static/lv_0_20241116141507.mp4 HTTP/1.1\" 206 -\n",
      "127.0.0.1 - - [18/Nov/2024 23:25:43] \"GET /static/lv_0_20241116141507.mp4 HTTP/1.1\" 206 -\n",
      "127.0.0.1 - - [18/Nov/2024 23:25:43] \"GET /static/lv_0_20241116141507.mp4 HTTP/1.1\" 206 -\n",
      "127.0.0.1 - - [18/Nov/2024 23:25:44] \"GET /index HTTP/1.1\" 200 -\n",
      "127.0.0.1 - - [18/Nov/2024 23:25:44] \"GET /static/css/index.css HTTP/1.1\" 304 -\n",
      "c:\\Users\\chakr\\anaconda3\\Lib\\site-packages\\sklearn\\base.py:493: UserWarning: X does not have valid feature names, but LinearRegression was fitted with feature names\n",
      "  warnings.warn(\n",
      "127.0.0.1 - - [18/Nov/2024 23:26:09] \"POST /result HTTP/1.1\" 200 -\n",
      "127.0.0.1 - - [18/Nov/2024 23:26:09] \"GET /static/output.png HTTP/1.1\" 304 -\n"
     ]
    }
   ],
   "source": [
    "if __name__=='__main__':\n",
    "    app.run()"
   ]
  }
 ],
 "metadata": {
  "kernelspec": {
   "display_name": "base",
   "language": "python",
   "name": "python3"
  },
  "language_info": {
   "codemirror_mode": {
    "name": "ipython",
    "version": 3
   },
   "file_extension": ".py",
   "mimetype": "text/x-python",
   "name": "python",
   "nbconvert_exporter": "python",
   "pygments_lexer": "ipython3",
   "version": "3.12.7"
  }
 },
 "nbformat": 4,
 "nbformat_minor": 5
}
